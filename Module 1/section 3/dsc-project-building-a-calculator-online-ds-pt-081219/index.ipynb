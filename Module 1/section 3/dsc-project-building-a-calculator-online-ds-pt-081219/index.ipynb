{
 "cells": [
  {
   "cell_type": "markdown",
   "metadata": {},
   "source": [
    "# Project - Building a Calculator\n",
    "\n",
    "\n",
    "## Introduction \n",
    "\n",
    "In this project, you'll create a simple calculator which can perform basic arithmetic operations like addition, subtraction, multiplication or division depending upon the user input.\n",
    "\n",
    "## Objectives\n",
    "\n",
    "You will be able to:\n",
    "\n",
    "* Perform operations on various data types \n",
    "* Use loops to perform iteration \n",
    "* Use conditionals to make programming decisions\n",
    "* Define and use functions \n",
    "* Ingest and parse user input \n",
    "\n",
    "## Approach \n",
    "\n",
    "* User choose the desired operation. Options 1, 2, 3, 4 are valid options for operations.  \n",
    "* Two numbers are taken and an `if…elif…else` branching is used to execute a particular section.\n",
    "\n",
    "* Using functions `add()`, `subtract()`, `multiply()` and `divide()` evaluate respective operations.\n",
    "\n",
    "* The code should handle exceptions and must return **\"invalid input*** when an unexpected character is given in the input (anything other than 1 - 4).\n",
    "\n",
    "## Example Interface\n",
    "Here is the interface you are expected to build. Don't worry if it is not 100% exactly as what is shown. Focus more on the getting the logic correct at this stage. \n",
    "\n",
    "```\n",
    "Please select an operation:\n",
    "1. Add\n",
    "2. Subtract\n",
    "3. Multiply\n",
    "4. Divide\n",
    "\n",
    "Select operations form 1, 2, 3, 4 : 1\n",
    "Enter first number : 20\n",
    "Enter second number : 13\n",
    "20 + 13 = 33\n",
    "```\n",
    "\n",
    "## Creating Arithmetic Functions\n",
    "\n",
    "We'll create four functions, one for each arithmetic operation which will perform the required operation and return the resulting value as shown below:"
   ]
  },
  {
   "cell_type": "code",
   "execution_count": 1,
   "metadata": {},
   "outputs": [],
   "source": [
    "# Function to add two numbers \n",
    "def add(num1, num2):\n",
    "    summation = num1 + num2\n",
    "    return summation\n",
    "    "
   ]
  },
  {
   "cell_type": "code",
   "execution_count": 2,
   "metadata": {},
   "outputs": [
    {
     "data": {
      "text/plain": [
       "3"
      ]
     },
     "execution_count": 2,
     "metadata": {},
     "output_type": "execute_result"
    }
   ],
   "source": [
    "add(1, 2)"
   ]
  },
  {
   "cell_type": "code",
   "execution_count": 2,
   "metadata": {},
   "outputs": [],
   "source": [
    "# Function to subtract two numbers \n",
    "def subtract(num1, num2):\n",
    "    subtraction = num1 - num2\n",
    "    return subtraction"
   ]
  },
  {
   "cell_type": "code",
   "execution_count": 4,
   "metadata": {},
   "outputs": [
    {
     "data": {
      "text/plain": [
       "9"
      ]
     },
     "execution_count": 4,
     "metadata": {},
     "output_type": "execute_result"
    }
   ],
   "source": [
    "subtract(4, -5)"
   ]
  },
  {
   "cell_type": "code",
   "execution_count": 3,
   "metadata": {},
   "outputs": [],
   "source": [
    "# Function to multiply two numbers\n",
    "def multiply(num1, num2):\n",
    "    multiplication = num1*num2\n",
    "    return multiplication"
   ]
  },
  {
   "cell_type": "code",
   "execution_count": 6,
   "metadata": {},
   "outputs": [
    {
     "data": {
      "text/plain": [
       "8"
      ]
     },
     "execution_count": 6,
     "metadata": {},
     "output_type": "execute_result"
    }
   ],
   "source": [
    "multiply(4, 2)"
   ]
  },
  {
   "cell_type": "code",
   "execution_count": 4,
   "metadata": {},
   "outputs": [],
   "source": [
    "# Function to divide two numbers\n",
    "def divide(num1, num2):\n",
    "    division = round(num1 / num2, 3)\n",
    "    return division"
   ]
  },
  {
   "cell_type": "code",
   "execution_count": 8,
   "metadata": {},
   "outputs": [
    {
     "ename": "ZeroDivisionError",
     "evalue": "division by zero",
     "output_type": "error",
     "traceback": [
      "\u001b[0;31m---------------------------------------------------------------------------\u001b[0m",
      "\u001b[0;31mZeroDivisionError\u001b[0m                         Traceback (most recent call last)",
      "\u001b[0;32m<ipython-input-8-a7008b7f4d4d>\u001b[0m in \u001b[0;36m<module>\u001b[0;34m()\u001b[0m\n\u001b[0;32m----> 1\u001b[0;31m \u001b[0mdivide\u001b[0m\u001b[0;34m(\u001b[0m\u001b[0;36m4\u001b[0m\u001b[0;34m,\u001b[0m \u001b[0;36m0\u001b[0m\u001b[0;34m)\u001b[0m\u001b[0;34m\u001b[0m\u001b[0m\n\u001b[0m",
      "\u001b[0;32m<ipython-input-7-6feaca30520e>\u001b[0m in \u001b[0;36mdivide\u001b[0;34m(num1, num2)\u001b[0m\n\u001b[1;32m      1\u001b[0m \u001b[0;31m# Function to divide two numbers\u001b[0m\u001b[0;34m\u001b[0m\u001b[0;34m\u001b[0m\u001b[0m\n\u001b[1;32m      2\u001b[0m \u001b[0;32mdef\u001b[0m \u001b[0mdivide\u001b[0m\u001b[0;34m(\u001b[0m\u001b[0mnum1\u001b[0m\u001b[0;34m,\u001b[0m \u001b[0mnum2\u001b[0m\u001b[0;34m)\u001b[0m\u001b[0;34m:\u001b[0m\u001b[0;34m\u001b[0m\u001b[0m\n\u001b[0;32m----> 3\u001b[0;31m     \u001b[0mdivision\u001b[0m \u001b[0;34m=\u001b[0m \u001b[0mround\u001b[0m\u001b[0;34m(\u001b[0m\u001b[0mnum1\u001b[0m \u001b[0;34m/\u001b[0m \u001b[0mnum2\u001b[0m\u001b[0;34m,\u001b[0m \u001b[0;36m3\u001b[0m\u001b[0;34m)\u001b[0m\u001b[0;34m\u001b[0m\u001b[0m\n\u001b[0m\u001b[1;32m      4\u001b[0m     \u001b[0;32mreturn\u001b[0m \u001b[0mdivision\u001b[0m\u001b[0;34m\u001b[0m\u001b[0m\n",
      "\u001b[0;31mZeroDivisionError\u001b[0m: division by zero"
     ]
    }
   ],
   "source": [
    "divide(4, 0)"
   ]
  },
  {
   "cell_type": "code",
   "execution_count": 9,
   "metadata": {},
   "outputs": [
    {
     "data": {
      "text/plain": [
       "0.0"
      ]
     },
     "execution_count": 9,
     "metadata": {},
     "output_type": "execute_result"
    }
   ],
   "source": [
    "divide(0, 8)"
   ]
  },
  {
   "cell_type": "code",
   "execution_count": 10,
   "metadata": {},
   "outputs": [
    {
     "data": {
      "text/plain": [
       "0.25"
      ]
     },
     "execution_count": 10,
     "metadata": {},
     "output_type": "execute_result"
    }
   ],
   "source": [
    "divide(1, 4)"
   ]
  },
  {
   "cell_type": "markdown",
   "metadata": {},
   "source": [
    "## Create a Command-line User Interface\n",
    "We'll now write the main program body to take user input and call the relevant function:"
   ]
  },
  {
   "cell_type": "code",
   "execution_count": null,
   "metadata": {},
   "outputs": [
    {
     "name": "stdout",
     "output_type": "stream",
     "text": [
      "Please select an operation: \n",
      " 1. Add \n",
      " 2. Subtract \n",
      " 3. Multiply \n",
      " 4. Divide\n"
     ]
    }
   ],
   "source": [
    "# Print user menu \n",
    "print(\"Please select an operation: \\n 1. Add \\n 2. Subtract \\n 3. Multiply \\n 4. Divide\")\n",
    "# Take input from the user for operation , followed by numbers. \n",
    "operations = input(\"Select operations from 1, 2, 3, 4: \")\n",
    "first_num = int(input(\"Enter first number: \"))\n",
    "second_num = int(input(\"Enter second number: \"))\n",
    "# Based on operation, pass the two numbers to respective function\n",
    "if operations == '1':\n",
    "    def add(num1, num2):\n",
    "        summation = num1 + num2\n",
    "        return summation\n",
    "print(first_num, \"+\", second_num, \"=\", add(first_num, second_num))\n",
    "if operations == '2':\n",
    "    def subtract(num1, num2):\n",
    "        subtraction = num1 - num2\n",
    "        return subtraction\n",
    "print(first_num, \"-\", second_num, \"=\", subtract(first_num, second_num))\n",
    "if operations == '3':\n",
    "    def multiply(num1, num2):\n",
    "        multiplication = num1*num2\n",
    "        return multiplication\n",
    "print(first_num, \"*\", second_num, \"=\", multiply(first_num, second_num))\n",
    "if operations == '4':\n",
    "    def divide(num1, num2):\n",
    "        division = round(num1 / num2, 3)\n",
    "        return division\n",
    "print(first_num, \"/\", second_num, \"=\", divide(first_num, second_num))\n",
    "# NOTE: the code runs with you don't use \"elif\" and only \"if\" but it runs all of them!\n",
    "# check with instructor why ... is it because there are multiply def functions inside?\n",
    "    \n",
    "\n",
    "        \n",
    "\n",
    "\n",
    "\n",
    "# Print the output in a nice manner\n",
    "# Print \"Invalid input\" if an unexpected character is seen in input\n",
    "\n",
    "\n",
    "# Expected output    \n",
    "\n",
    "# Please select operation -\n",
    "# 1. Add\n",
    "# 2. Subtract\n",
    "# 3. Multiply\n",
    "# 4. Divide\n",
    "\n",
    "# Select operations form 1, 2, 3, 4 :1\n",
    "# Enter first number: 2\n",
    "# Enter second number: 3\n",
    "# 2 + 3 = 5"
   ]
  },
  {
   "cell_type": "code",
   "execution_count": 18,
   "metadata": {},
   "outputs": [
    {
     "name": "stdout",
     "output_type": "stream",
     "text": [
      "Please select an operation: \n",
      " 1. Add \n",
      " 2. Subtract \n",
      " 3. Multiply \n",
      " 4. Divide\n",
      "Select operations from 1, 2, 3, 4: 6\n",
      "Enter first number: 4\n",
      "Enter second number: 3\n",
      "Invalid input\n"
     ]
    }
   ],
   "source": [
    "# Print user menu \n",
    "print(\"Please select an operation: \\n 1. Add \\n 2. Subtract \\n 3. Multiply \\n 4. Divide\")\n",
    "# Take input from the user for operation , followed by numbers. \n",
    "operations = input(\"Select operations from 1, 2, 3, 4: \")\n",
    "first_num = int(input(\"Enter first number: \"))\n",
    "second_num = int(input(\"Enter second number: \"))\n",
    "\n",
    "if operations == '1':\n",
    "    print(first_num, \"+\", second_num, \"=\", add(first_num, second_num))\n",
    "elif operations == '2':\n",
    "    print(first_num, \"-\", second_num, \"=\", subtract(first_num, second_num))\n",
    "elif operations == '3':\n",
    "    print(first_num, \"*\", second_num, \"=\", multiply(first_num, second_num))\n",
    "elif operations == '4':\n",
    "    print(first_num, \"/\", second_num, \"=\", divide(first_num, second_num))\n",
    "else:\n",
    "    print(\"Invalid input\")\n",
    "# note: the numbers selected for operations have to be str, because otherwise, it preforms\n",
    "# the else function ... find out why..."
   ]
  },
  {
   "cell_type": "markdown",
   "metadata": {},
   "source": [
    "## Bring in the While loop\n",
    "\n",
    "We can see how the logic set by using if-else statements, along with functions can be used to control the flow of the program in an easy way. Let's add more functionality to our calculator as below:\n",
    "\n",
    ">Let's try to make it a bit more interesting by introducing the behaviour of a real calculator so our users can choose to either continue with calculations OR exit the system. Users gets this functionality by pressing `y` for yes and `n` for no towards continuation.\n",
    "\n",
    "## Example Interface\n",
    "\n",
    "**Notice `continue: y/n` at the bottom of interface.**\n",
    "\n",
    "```\n",
    "Please select an operation:\n",
    "1. Add\n",
    "2. Subtract\n",
    "3. Multiply\n",
    "4. Divide\n",
    "\n",
    "Select operations form 1, 2, 3, 4 : 1\n",
    "Enter first number : 20\n",
    "Enter second number : 13\n",
    "20 + 13 = 33\n",
    "\n",
    "Continue: y/n\n",
    "```\n",
    "\n",
    "Let's work towards implementing iteration into the equation and enclose above I/O interface inside a while loops."
   ]
  },
  {
   "cell_type": "code",
   "execution_count": null,
   "metadata": {},
   "outputs": [
    {
     "name": "stdout",
     "output_type": "stream",
     "text": [
      "Please select an operation: \n",
      " 1. Add \n",
      " 2. Subtract \n",
      " 3. Multiply \n",
      " 4. Divide\n",
      "Select operations from 1, 2, 3, 4: 5\n",
      "Enter first number: 0\n",
      "Enter second number: 8\n"
     ]
    }
   ],
   "source": [
    "print(\"Please select an operation: \\n 1. Add \\n 2. Subtract \\n 3. Multiply \\n 4. Divide\")\n",
    "# Initialize the code with cont (continue) flag set to yes (y)\n",
    "cont = 'y'\n",
    "while cont == 'y':\n",
    "    operations = input(\"Select operations from 1, 2, 3, 4: \")\n",
    "    first_num = int(input(\"Enter first number: \"))\n",
    "    second_num = int(input(\"Enter second number: \"))\n",
    "    if operations == '1':\n",
    "        print(first_num, \"+\", second_num, \"=\", add(first_num, second_num))\n",
    "    elif operations == '2':\n",
    "        print(first_num, \"-\", second_num, \"=\", subtract(first_num, second_num))\n",
    "    elif operations == '3':\n",
    "        print(first_num, \"*\", second_num, \"=\", multiply(first_num, second_num))\n",
    "    elif operations == '4':\n",
    "        print(first_num, \"/\", second_num, \"=\", divide(first_num, second_num))\n",
    "    cont = input(\"Continue: y or n? \")\n",
    "    if cont == 'n':\n",
    "        break\n",
    "# NOTE: make sure that the if is still inside the while loop\n",
    "\n",
    "\n",
    "\n",
    "# Check for user input after each iteration of the code in a while loop\n",
    "\n",
    "\n",
    "        # Enclose the I/O  code block inside the while loop\n",
    "        \n",
    "\n",
    "\n",
    "#Expected output format\n",
    "\n",
    "# Select operations form 1, 2, 3, 4 :4\n",
    "# Enter first number: 5\n",
    "# Enter second number: 4\n",
    "# Press d for division and m for modulo operatorm\n",
    "# 5 / 4 = 1\n",
    "# Continue? y/n:y\n",
    "# Select operations form 1, 2, 3, 4 :4\n",
    "# Enter first number: 5\n",
    "# Enter second number: 4\n",
    "# Press d for division and m for modulo operatord\n",
    "# 5 / 4 = 1.25"
   ]
  },
  {
   "cell_type": "code",
   "execution_count": null,
   "metadata": {},
   "outputs": [],
   "source": [
    "print('Please select from one of the following operations: \\n 1. Addition \\n 2. Subtraction'\n",
    "     '\\n 3. Multiplication \\n 4. Division ')\n",
    "operations = input(\"Select operations from 1, 2, 3, 4: \")\n",
    "if operations == '0' or operations >= '5':\n",
    "        print('Invalid Input')\n",
    "        input('Start again? Yes or No:')\n",
    "cont = 'Yes'\n",
    "while cont == 'Yes':\n",
    "    operations = input(\"Select operations from 1, 2, 3, 4: \")\n",
    "    first_num = int(input(\"Enter first number: \"))\n",
    "    second_num = int(input(\"Enter second number: \"))\n",
    "    if operations == '1':\n",
    "        print(first_num, \"+\", second_num, \"=\", add(first_num, second_num))\n",
    "    elif operations == '2':\n",
    "        print(first_num, \"-\", second_num, \"=\", subtract(first_num, second_num))\n",
    "    elif operations == '3':\n",
    "        print(first_num, \"*\", second_num, \"=\", multiply(first_num, second_num))\n",
    "    elif operations == '4':\n",
    "        print(first_num, \"/\", second_num, \"=\", divide(first_num, second_num))\n",
    "    cont = input(\"Start again? Yes or No: \")\n",
    "    if cont == 'No':\n",
    "        break\n",
    "\n",
    "    \n",
    "\n",
    "    \n"
   ]
  },
  {
   "cell_type": "markdown",
   "metadata": {},
   "source": [
    "## Level up (Optional)\n",
    "\n",
    "The while loop shown above allows the iteration through the code until a specific input from user i.e. `n` is noticed. Let's add some more functionality to this code by asking users about the type of division they are interested in, and this could be either normal division (as before) or a modulo operator (shows remainder).\n",
    "\n",
    ">Change the code in the division function so that if a user selects division operation, the code should ask the user if he/she wants a normal division `/` (int) or `//` (float) , or a module `%` operator which only returns the remainder of a division. The program should return an exception for any other inputs. "
   ]
  },
  {
   "cell_type": "code",
   "execution_count": 19,
   "metadata": {},
   "outputs": [],
   "source": [
    "def divide_v2(num1, num2):\n",
    "    division_2 = input(\"Select d for division or m for module operator: \")\n",
    "    if division_2 == 'd':\n",
    "        return num1/num2\n",
    "    elif division_2 == 'm':\n",
    "        return num1%num2\n",
    "    else:\n",
    "        return \"Invalid input\"\n",
    "    "
   ]
  },
  {
   "cell_type": "code",
   "execution_count": 20,
   "metadata": {},
   "outputs": [
    {
     "name": "stdout",
     "output_type": "stream",
     "text": [
      "Select d for division or m for module operator: m\n"
     ]
    },
    {
     "data": {
      "text/plain": [
       "3"
      ]
     },
     "execution_count": 20,
     "metadata": {},
     "output_type": "execute_result"
    }
   ],
   "source": [
    "divide_v2(3, 5)"
   ]
  },
  {
   "cell_type": "code",
   "execution_count": 21,
   "metadata": {},
   "outputs": [
    {
     "name": "stdout",
     "output_type": "stream",
     "text": [
      "Select d for division or m for module operator: d\n"
     ]
    },
    {
     "data": {
      "text/plain": [
       "0.6"
      ]
     },
     "execution_count": 21,
     "metadata": {},
     "output_type": "execute_result"
    }
   ],
   "source": [
    "divide_v2(3, 5)"
   ]
  },
  {
   "cell_type": "code",
   "execution_count": null,
   "metadata": {},
   "outputs": [],
   "source": [
    "print(\"Please select an operation: \\n 1. Add \\n 2. Subtract \\n 3. Multiply \\n 4. Divide\")\n",
    "cont = 'y'\n",
    "while cont == 'y':\n",
    "    operations = input(\"Select operations from 1, 2, 3, 4: \")\n",
    "    first_num = int(input(\"Enter first number: \"))\n",
    "    second_num = int(input(\"Enter second number: \"))\n",
    "    if operations == '1':\n",
    "        print(first_num, \"+\", second_num, \"=\", add(first_num, second_num))\n",
    "    elif operations == '2':\n",
    "        print(first_num, \"-\", second_num, \"=\", subtract(first_num, second_num))\n",
    "    elif operations == '3':\n",
    "        print(first_num, \"*\", second_num, \"=\", multiply(first_num, second_num))\n",
    "    elif operations == '4':\n",
    "            print(first_num, \"/\", second_num, \"=\", divide_v2(first_num, second_num))\n",
    "# Note: just wanted the calculator to ask what type of division, in order to continue\n",
    "    cont = input(\"Continue: y or n? \")\n",
    "    if cont == 'n':\n",
    "        break"
   ]
  },
  {
   "cell_type": "markdown",
   "metadata": {},
   "source": [
    "## Summary\n",
    "\n",
    "In this lab we saw how loops and conditions can be used to control the logic of a program execution based on user input. We started with building a simple calculator and incrementally added more functionality to it by adding loops for iteration and further conditions allowing different type of calculations. We also practiced User I/O by taking choices from the users and dealing with exceptions (unexpected input). "
   ]
  }
 ],
 "metadata": {
  "kernelspec": {
   "display_name": "Python 3",
   "language": "python",
   "name": "python3"
  },
  "language_info": {
   "codemirror_mode": {
    "name": "ipython",
    "version": 3
   },
   "file_extension": ".py",
   "mimetype": "text/x-python",
   "name": "python",
   "nbconvert_exporter": "python",
   "pygments_lexer": "ipython3",
   "version": "3.6.6"
  }
 },
 "nbformat": 4,
 "nbformat_minor": 2
}
