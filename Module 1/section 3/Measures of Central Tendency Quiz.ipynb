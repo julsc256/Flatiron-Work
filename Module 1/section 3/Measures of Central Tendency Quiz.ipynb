{
 "cells": [
  {
   "cell_type": "code",
   "execution_count": 20,
   "metadata": {},
   "outputs": [],
   "source": [
    "list_of_numbers = []\n",
    "def find_the_mean(list_of_numbers):\n",
    "    numerator = sum(list_of_numbers)\n",
    "    denominator = len(list_of_numbers)\n",
    "    return numerator/denominator\n",
    "# this is without using numpy, just defining a function"
   ]
  },
  {
   "cell_type": "code",
   "execution_count": 21,
   "metadata": {},
   "outputs": [
    {
     "data": {
      "text/plain": [
       "18.0"
      ]
     },
     "execution_count": 21,
     "metadata": {},
     "output_type": "execute_result"
    }
   ],
   "source": [
    "find_the_mean([19, 18, 21, 16, 15, 17, 20, 18])"
   ]
  },
  {
   "cell_type": "code",
   "execution_count": 22,
   "metadata": {},
   "outputs": [
    {
     "data": {
      "text/plain": [
       "23.142857142857142"
      ]
     },
     "execution_count": 22,
     "metadata": {},
     "output_type": "execute_result"
    }
   ],
   "source": [
    "find_the_mean([22, 56, 11, 4, -17, 6, 80])"
   ]
  },
  {
   "cell_type": "code",
   "execution_count": 26,
   "metadata": {},
   "outputs": [
    {
     "data": {
      "text/plain": [
       "18.0"
      ]
     },
     "execution_count": 26,
     "metadata": {},
     "output_type": "execute_result"
    }
   ],
   "source": [
    "import numpy as np\n",
    "from scipy import stats\n",
    "dataset = [19, 18, 21, 16, 15, 17, 20, 18]\n",
    "mean = np.mean(dataset)\n",
    "mean\n",
    "# this is importing numpy as np to get only mean and median"
   ]
  },
  {
   "cell_type": "code",
   "execution_count": 27,
   "metadata": {},
   "outputs": [
    {
     "data": {
      "text/plain": [
       "11.0"
      ]
     },
     "execution_count": 27,
     "metadata": {},
     "output_type": "execute_result"
    }
   ],
   "source": [
    "dataset2 = [22, 56, 11, 4, -17, 6, 80]\n",
    "median = np.median(dataset2)\n",
    "median"
   ]
  },
  {
   "cell_type": "code",
   "execution_count": 33,
   "metadata": {},
   "outputs": [
    {
     "data": {
      "text/plain": [
       "8.5"
      ]
     },
     "execution_count": 33,
     "metadata": {},
     "output_type": "execute_result"
    }
   ],
   "source": [
    "dataset1 = [22, 56, 11, 4, -17, 6, 80, -126]\n",
    "median1 = np.median(dataset1)\n",
    "median1"
   ]
  },
  {
   "cell_type": "code",
   "execution_count": 32,
   "metadata": {},
   "outputs": [
    {
     "data": {
      "text/plain": [
       "18"
      ]
     },
     "execution_count": 32,
     "metadata": {},
     "output_type": "execute_result"
    }
   ],
   "source": [
    "import statistics\n",
    "dataset3 = [19, 18, 21, 16, 15, 17, 20, 18]\n",
    "(statistics.mode(dataset3))\n",
    "\n",
    "# this is using statistics to find the mode \n",
    "# all you have to do is import statistics"
   ]
  },
  {
   "cell_type": "code",
   "execution_count": 31,
   "metadata": {},
   "outputs": [
    {
     "data": {
      "text/plain": [
       "ModeResult(mode=array([18]), count=array([2]))"
      ]
     },
     "execution_count": 31,
     "metadata": {},
     "output_type": "execute_result"
    }
   ],
   "source": [
    "mode = stats.mode(dataset3)\n",
    "mode\n",
    "\n",
    "# this comes from the input above, where I wrote \n",
    "# import numpy as np\n",
    "# from scipy import stats\n",
    "# the result gives you the mode and how many times it shows up"
   ]
  }
 ],
 "metadata": {
  "kernelspec": {
   "display_name": "Python [conda env:learn-env] *",
   "language": "python",
   "name": "conda-env-learn-env-py"
  },
  "language_info": {
   "codemirror_mode": {
    "name": "ipython",
    "version": 3
   },
   "file_extension": ".py",
   "mimetype": "text/x-python",
   "name": "python",
   "nbconvert_exporter": "python",
   "pygments_lexer": "ipython3",
   "version": "3.6.6"
  }
 },
 "nbformat": 4,
 "nbformat_minor": 2
}
