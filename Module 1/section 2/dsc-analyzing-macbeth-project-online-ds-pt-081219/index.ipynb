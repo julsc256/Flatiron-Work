{
 "cells": [
  {
   "cell_type": "markdown",
   "metadata": {},
   "source": [
    "# Project: Analyzing Macbeth\n",
    "\n",
    "## Introduction\n",
    "Now we're going to do some rudimentry analysis of Shakespeare's classic play: Macbeth! You will get practice working with lists, condtionals and dictionaries, visualizing data, and thinking analytically about data.\n",
    "\n",
    "## Objectives\n",
    "You will be able to:\n",
    "* Show mastery of the content covered in this section\n",
    "\n",
    "## Getting the Data\n",
    "Here we start by importing a python package and using it to pull the transcript of Macbeth from the project Gutenberg website. We also preview a few details about what is now stored in the variable macbeth; it's a string with 119,846 characters, the first 500 of which are printed below. "
   ]
  },
  {
   "cell_type": "code",
   "execution_count": 1,
   "metadata": {},
   "outputs": [
    {
     "name": "stdout",
     "output_type": "stream",
     "text": [
      "<class 'str'>\n",
      "120253\n",
      "﻿\r\n",
      "\r\n",
      "***The Project Gutenberg's Etext of Shakespeare's First Folio***\r\n",
      "********************The Tragedie of Macbeth*********************\r\n",
      "\r\n",
      "\r\n",
      "\r\n",
      "*******************************************************************\r\n",
      "THIS EBOOK WAS ONE OF PROJECT GUTENBERG'S EARLY FILES PRODUCED AT A\r\n",
      "TIME WHEN PROOFING METHODS AND TOOLS WERE NOT WELL DEVELOPED. THERE\r\n",
      "IS AN IMPROVED EDITION OF THIS TITLE WHICH MAY BE VIEWED AS EBOOK\r\n",
      "(#1533) at https://www.gutenberg.org/ebooks/1533\r\n",
      "*********************************\n"
     ]
    }
   ],
   "source": [
    "import requests\n",
    "macbeth = requests.get('http://www.gutenberg.org/cache/epub/2264/pg2264.txt').text\n",
    "\n",
    "print(type(macbeth))\n",
    "print(len(macbeth))\n",
    "print(macbeth[:500])"
   ]
  },
  {
   "cell_type": "markdown",
   "metadata": {},
   "source": [
    "## Your Task\n",
    "\n",
    "Your task is to create a bar graph of the 25 most common words in Shakespeare's Macbeth.  \n",
    "\n",
    "\n",
    "A common python programming pattern to counting objects, produce histograms, or update statistics is to make calls to a dictionary as you iterate through a list. For example, given a list of words, you can create a dictionary to store counts and then iterate through the list of words, checking how many times each word has appeared using your dictionary, and updating the dictionary count now that you've seen that word again. The `dictionary.get()` method is very useful in doing this. Read the docstring for the dictionary.get() method and use it along with the pseudocode above to create a bar graph of the 25 most common words from the transcript of Macbeth which has been loaded into a variable 'Macbeth'. Be sure to include a title and appropriate labels for your graph."
   ]
  },
  {
   "cell_type": "code",
   "execution_count": 2,
   "metadata": {},
   "outputs": [
    {
     "name": "stdout",
     "output_type": "stream",
     "text": [
      "[('the', 620), ('and', 427), ('of', 395), ('to', 367), ('I', 326), ('a', 255), ('you', 193), ('in', 190), ('is', 185), ('my', 170), ('And', 169), ('that', 158), ('not', 142), ('with', 141), ('Macb.', 137), ('be', 133), ('The', 131), ('it', 128), ('his', 127), ('your', 122), ('our', 116), ('haue', 114), ('this', 108), ('for', 100), ('That', 80)]\n"
     ]
    },
    {
     "data": {
      "text/plain": [
       "{'the': 620,\n",
       " 'and': 427,\n",
       " 'of': 395,\n",
       " 'to': 367,\n",
       " 'I': 326,\n",
       " 'a': 255,\n",
       " 'you': 193,\n",
       " 'in': 190,\n",
       " 'is': 185,\n",
       " 'my': 170,\n",
       " 'And': 169,\n",
       " 'that': 158,\n",
       " 'not': 142,\n",
       " 'with': 141,\n",
       " 'Macb.': 137,\n",
       " 'be': 133,\n",
       " 'The': 131,\n",
       " 'it': 128,\n",
       " 'his': 127,\n",
       " 'your': 122,\n",
       " 'our': 116,\n",
       " 'haue': 114,\n",
       " 'this': 108,\n",
       " 'for': 100,\n",
       " 'That': 80}"
      ]
     },
     "execution_count": 2,
     "metadata": {},
     "output_type": "execute_result"
    }
   ],
   "source": [
    "from collections import Counter\n",
    "\n",
    "macbeth.split()\n",
    "# split the macbeth list\n",
    "macbeth_word_count = Counter(macbeth.split())\n",
    "# used counter from collections to find the number of times each word\n",
    "# showed up - for help with counter type help() after gotten counter from\n",
    "# collections\n",
    "common_macbeth_words = macbeth_word_count.most_common(25)\n",
    "print(common_macbeth_words)\n",
    "sort = sorted(common_macbeth_words)\n",
    "# sorted puts them in order\n",
    "\n",
    "word_count = common_macbeth_words\n",
    "word_count_dict = dict(word_count)\n",
    "# make it into a dictionary\n",
    "word_count_dict"
   ]
  },
  {
   "cell_type": "code",
   "execution_count": 3,
   "metadata": {},
   "outputs": [
    {
     "data": {
      "text/plain": [
       "Text(0.5, 0, 'Words')"
      ]
     },
     "execution_count": 3,
     "metadata": {},
     "output_type": "execute_result"
    },
    {
     "data": {
      "image/png": "[encoded data removed]",
      "text/plain": [
       "<Figure size 432x288 with 1 Axes>"
      ]
     },
     "metadata": {
      "needs_background": "light"
     },
     "output_type": "display_data"
    }
   ],
   "source": [
    "import pandas as pd\n",
    "import numpy as np\n",
    "import matplotlib.pyplot as plt\n",
    "%matplotlib inline\n",
    "\n",
    "macbeth_25 = pd.DataFrame.from_dict(word_count_dict, orient='index')\n",
    "# note that in the answers there was a line where things needed to be sorted\n",
    "# but I already sorted it above -- that's why it asked for head(25) because \n",
    "# it wanted the top 25 of the sorted data of ALL the words\n",
    "macbeth_25.plot(kind='bar')\n",
    "# in the answers the bar graph said barh which is a horizontal bar graph\n",
    "# I wanted a vertical one, so deleted the h\n",
    "plt.title('Top 25 Most Common Words in Macbeth')\n",
    "plt.ylabel('Frequency of Use')\n",
    "plt.xlabel('Words')"
   ]
  },
  {
   "cell_type": "code",
   "execution_count": 6,
   "metadata": {},
   "outputs": [
    {
     "name": "stdout",
     "output_type": "stream",
     "text": [
      "{'the': 620, 'and': 427, 'of': 395, 'to': 367, 'I': 326, 'a': 255, 'you': 193, 'in': 190, 'is': 185, 'my': 170, 'And': 169, 'that': 158, 'not': 142, 'with': 141, 'Macb.': 137, 'be': 133, 'The': 131, 'it': 128, 'his': 127, 'your': 122, 'our': 116, 'haue': 114, 'this': 108, 'for': 100, 'That': 80}\n"
     ]
    },
    {
     "data": {
      "text/plain": [
       "Text(0.5, 0, 'Words')"
      ]
     },
     "execution_count": 6,
     "metadata": {},
     "output_type": "execute_result"
    },
    {
     "data": {
      "image/png": "[encoded data removed]",
      "text/plain": [
       "<Figure size 432x288 with 1 Axes>"
      ]
     },
     "metadata": {
      "needs_background": "light"
     },
     "output_type": "display_data"
    }
   ],
   "source": [
    "# all together - no comments\n",
    "import pandas as pd\n",
    "import numpy as np\n",
    "import matplotlib.pyplot as plt\n",
    "%matplotlib inline\n",
    "from collections import Counter\n",
    "\n",
    "macbeth.split()\n",
    "macbeth_word_count = Counter(macbeth.split())\n",
    "common_macbeth_words = macbeth_word_count.most_common(25)\n",
    "sort = sorted(common_macbeth_words)\n",
    "word_count = common_macbeth_words\n",
    "word_count_dict = dict(word_count)\n",
    "print(word_count_dict)\n",
    "\n",
    "macbeth_25 = pd.DataFrame.from_dict(word_count_dict, orient='index')\n",
    "macbeth_25.plot(kind='bar')\n",
    "plt.title('Top 25 Most Common Words in Macbeth')\n",
    "plt.ylabel('Frequency of Use')\n",
    "plt.xlabel('Words')"
   ]
  },
  {
   "cell_type": "code",
   "execution_count": 4,
   "metadata": {},
   "outputs": [],
   "source": [
    "# Your code here\n",
    "\n",
    "\n",
    "# Pseudo-code Outline\n",
    "# Split the transcript into words\n",
    "# Create a dictionary\n",
    "# Iterate through the text of Macbeth\n",
    "# Update word counts\n",
    "# Create Bar Graph\n",
    "# Include descriptive titles and labels"
   ]
  },
  {
   "cell_type": "markdown",
   "metadata": {},
   "source": [
    "## Level Up (Optional)\n",
    "This project should take you about an hour and a half to complete. If you're done much more quickly than that and are not behind in the course, feel free to deepen your knowledge by completing any or all of the following tasks until you run out of time:\n",
    "* Create a list of top characters by mentions of their names \n",
    "* Split the text by which character is talking\n",
    "* Create subgraphs of the most common words by character\n",
    "* Reduce the string to the text of the play itself. (Remove any initial notes, forward, introduction, appendix, etc.)\n",
    "* Come up with some other fun analyses of the text!\n",
    "\n",
    "## Summary\n",
    "Congratulations! You've got some extra practice combining various data types into useful programming patterns and done an initial analysis of a classic text!"
   ]
  }
 ],
 "metadata": {
  "kernelspec": {
   "display_name": "Python 3",
   "language": "python",
   "name": "python3"
  },
  "language_info": {
   "codemirror_mode": {
    "name": "ipython",
    "version": 3
   },
   "file_extension": ".py",
   "mimetype": "text/x-python",
   "name": "python",
   "nbconvert_exporter": "python",
   "pygments_lexer": "ipython3",
   "version": "3.6.6"
  }
 },
 "nbformat": 4,
 "nbformat_minor": 2
}
